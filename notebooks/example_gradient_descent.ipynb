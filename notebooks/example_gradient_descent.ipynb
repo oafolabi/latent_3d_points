{
 "cells": [
  {
   "cell_type": "code",
   "execution_count": 2,
   "metadata": {},
   "outputs": [],
   "source": [
    "import tensorflow as tf"
   ]
  },
  {
   "cell_type": "code",
   "execution_count": 3,
   "metadata": {},
   "outputs": [
    {
     "name": "stdout",
     "output_type": "stream",
     "text": [
      "1.3.0\n"
     ]
    }
   ],
   "source": [
    "print(tf.__version__)"
   ]
  },
  {
   "cell_type": "code",
   "execution_count": 5,
   "metadata": {},
   "outputs": [],
   "source": [
    "import os.path as osp\n",
    "import sys\n",
    "sys.path.insert(0,'../../')\n",
    "\n",
    "\n",
    "from latent_3d_points.src.ae_templates import mlp_architecture_ala_iclr_18, default_train_params\n",
    "from latent_3d_points.src.autoencoder import Configuration as Conf\n",
    "from latent_3d_points.src.point_net_ae import PointNetAutoEncoder\n",
    "\n",
    "from latent_3d_points.src.in_out import snc_category_to_synth_id, create_dir, PointCloudDataSet, \\\n",
    "                                        load_all_point_clouds_under_folder\n",
    "\n",
    "from latent_3d_points.src.tf_utils import reset_tf_graph\n",
    "from latent_3d_points.src.general_utils import plot_3d_point_cloud"
   ]
  },
  {
   "cell_type": "code",
   "execution_count": 6,
   "metadata": {},
   "outputs": [],
   "source": [
    "%load_ext autoreload\n",
    "%autoreload 2\n",
    "%matplotlib inline"
   ]
  },
  {
   "cell_type": "code",
   "execution_count": 7,
   "metadata": {},
   "outputs": [
    {
     "ename": "NameError",
     "evalue": "name 'raw_input' is not defined",
     "output_type": "error",
     "traceback": [
      "\u001b[0;31m---------------------------------------------------------------------------\u001b[0m",
      "\u001b[0;31mNameError\u001b[0m                                 Traceback (most recent call last)",
      "\u001b[0;32m<ipython-input-7-d799f06d6a3a>\u001b[0m in \u001b[0;36m<module>\u001b[0;34m\u001b[0m\n\u001b[1;32m      6\u001b[0m \u001b[0mbneck_size\u001b[0m \u001b[0;34m=\u001b[0m \u001b[0;36m128\u001b[0m                  \u001b[0;31m# Bottleneck-AE size\u001b[0m\u001b[0;34m\u001b[0m\u001b[0;34m\u001b[0m\u001b[0m\n\u001b[1;32m      7\u001b[0m \u001b[0mae_loss\u001b[0m \u001b[0;34m=\u001b[0m \u001b[0;34m'chamfer'\u001b[0m                   \u001b[0;31m# Loss to optimize: 'emd' or 'chamfer'\u001b[0m\u001b[0;34m\u001b[0m\u001b[0;34m\u001b[0m\u001b[0m\n\u001b[0;32m----> 8\u001b[0;31m \u001b[0mclass_name\u001b[0m \u001b[0;34m=\u001b[0m \u001b[0mraw_input\u001b[0m\u001b[0;34m(\u001b[0m\u001b[0;34m'Give me the class name (e.g. \"chair\"): '\u001b[0m\u001b[0;34m)\u001b[0m\u001b[0;34m.\u001b[0m\u001b[0mlower\u001b[0m\u001b[0;34m(\u001b[0m\u001b[0;34m)\u001b[0m\u001b[0;34m\u001b[0m\u001b[0;34m\u001b[0m\u001b[0m\n\u001b[0m",
      "\u001b[0;31mNameError\u001b[0m: name 'raw_input' is not defined"
     ]
    }
   ],
   "source": [
    "top_out_dir = '../data/'          # Use to save Neural-Net check-points etc.\n",
    "top_in_dir = '../data/shape_net_core_uniform_samples_2048/' # Top-dir of where point-clouds are stored.\n",
    "\n",
    "experiment_name = 'single_class_ae'\n",
    "n_pc_points = 2048                # Number of points per model.\n",
    "bneck_size = 128                  # Bottleneck-AE size\n",
    "ae_loss = 'chamfer'                   # Loss to optimize: 'emd' or 'chamfer'\n",
    "class_name = raw_input('Give me the class name (e.g. \"chair\"): ').lower()"
   ]
  },
  {
   "cell_type": "code",
   "execution_count": null,
   "metadata": {},
   "outputs": [],
   "source": [
    "syn_id = snc_category_to_synth_id()[class_name]\n",
    "class_dir = osp.join(top_in_dir , syn_id)\n",
    "all_pc_data = load_all_point_clouds_under_folder(class_dir, n_threads=8, file_ending='.ply', verbose=True)"
   ]
  },
  {
   "cell_type": "code",
   "execution_count": null,
   "metadata": {},
   "outputs": [],
   "source": [
    "train_dir = osp.join(top_out_dir, experiment_name)\n",
    "load_pre_trained_ae = True\n",
    "restore_epoch = 500\n",
    "if load_pre_trained_ae:\n",
    "    conf = Conf.load(train_dir + '/configuration')\n",
    "    reset_tf_graph()\n",
    "    ae = PointNetAutoEncoder(conf.experiment_name, conf)\n",
    "    ae.restore_model(conf.train_dir, epoch=restore_epoch)"
   ]
  },
  {
   "cell_type": "code",
   "execution_count": null,
   "metadata": {},
   "outputs": [],
   "source": [
    "feed_pc, feed_model_names, _ = all_pc_data.next_batch(10)\n",
    "# reconstructions = ae.reconstruct(feed_pc)[0]\n",
    "# latent_codes = ae.transform(feed_pc)"
   ]
  },
  {
   "cell_type": "code",
   "execution_count": null,
   "metadata": {},
   "outputs": [],
   "source": [
    "print feed_pc.shape"
   ]
  },
  {
   "cell_type": "code",
   "execution_count": null,
   "metadata": {},
   "outputs": [],
   "source": [
    "i = 9\n",
    "plot_3d_point_cloud(feed_pc[i][:, 0], \n",
    "                    feed_pc[i][:, 1], \n",
    "                    feed_pc[i][:, 2], in_u_sphere=True);"
   ]
  },
  {
   "cell_type": "code",
   "execution_count": null,
   "metadata": {},
   "outputs": [],
   "source": [
    "import numpy as np\n",
    "new_latent_codes = ae.get_latent_codes(feed_pc)\n",
    "new_decodes = ae.decode(new_latent_codes)\n",
    "interp_points = ae.interpolate(np.squeeze(new_decodes[0,:,:]), np.squeeze(new_decodes[4,:,:]),10)\n",
    "j = 6\n",
    "plot_3d_point_cloud(interp_points[j][:, 0], \n",
    "                    interp_points[j][:, 1], \n",
    "                    interp_points[j][:, 2], in_u_sphere=True);"
   ]
  },
  {
   "cell_type": "code",
   "execution_count": null,
   "metadata": {},
   "outputs": [],
   "source": [
    "print np.expand_dims(feed_pc[0,:,:],axis=0).shape\n",
    "print interp_points[6,:,:].shape\n",
    "grad = ae.gradient_of_input_wrt_loss(np.expand_dims(feed_pc[0,:,:],axis=0), np.expand_dims(interp_points[6,:,:],axis=0))"
   ]
  },
  {
   "cell_type": "code",
   "execution_count": null,
   "metadata": {},
   "outputs": [],
   "source": [
    "print np.asarray(grad)"
   ]
  },
  {
   "cell_type": "code",
   "execution_count": null,
   "metadata": {},
   "outputs": [],
   "source": [
    "def decoder_gradient_wrt_codes(ae_in ,in_code, gt_points):\n",
    "    return ae_in.sess.run(tf.gradients(ae_in.loss, ae_in.z), feed_dict={ae_in.z: in_code, ae.gt: gt_points})\n",
    "    "
   ]
  },
  {
   "cell_type": "code",
   "execution_count": null,
   "metadata": {},
   "outputs": [],
   "source": [
    "def grad_descent(x_in, grad, gamma):\n",
    "    x_out = x_in - gamma*grad\n",
    "    return x_out"
   ]
  },
  {
   "cell_type": "code",
   "execution_count": null,
   "metadata": {},
   "outputs": [],
   "source": [
    "sys.path.append('../../pointnet2/utils/')\n",
    "import pc_util\n",
    "import tensorflow as tf\n",
    "\n",
    "x_in = np.expand_dims(feed_pc[0,:,:],axis=0)\n",
    "x_target = np.expand_dims(interp_points[6,:,:],axis=0)\n",
    "print x_target.shape\n",
    "target_n_points = x_target.shape[1]\n",
    "\n",
    "desired_n_samples = 1000\n",
    "\n",
    "choice_idx = np.random.choice(target_n_points, desired_n_samples, replace=False)\n",
    "repeat_idx = np.random.choice(target_n_points, 1, replace=False)\n",
    "\n",
    "tmp = np.squeeze(x_target) - x_target[0,repeat_idx,:]\n",
    "tmp = np.linalg.norm(tmp, axis=1)\n",
    "\n",
    "tmp = np.where(tmp < 0.3)[0]\n",
    "\n",
    "print tmp.shape\n",
    "\n",
    "desired_n_samples = tmp.shape[0]\n",
    "\n",
    "chosen_points  = np.expand_dims(x_target[0,choice_idx, :], axis=0)\n",
    "repeated_points = np.expand_dims(np.repeat(x_target[0,repeat_idx,:], 2048-desired_n_samples, axis=0), axis=0)\n",
    "\n",
    "chosen_points = np.expand_dims(x_target[0,tmp, :], axis=0)\n",
    "new_target = np.hstack((chosen_points, repeated_points))\n",
    "print new_target.shape\n",
    "# new_target = np.vstack(x_target[1,choice_idx, :], np.repeat(x_target[1,repeat_idx,:], 2048-desired_n_samples, axis=0))"
   ]
  },
  {
   "cell_type": "code",
   "execution_count": null,
   "metadata": {},
   "outputs": [],
   "source": [
    "points_list = []\n",
    "\n",
    "\n",
    "\n",
    "x_in_code = ae.get_latent_codes(x_in)\n",
    "# x_target_code = ae.get_latent_codes(x_target)\n",
    "points_list.append(x_in_code)\n",
    "\n",
    "\n",
    "\n",
    "new_code = x_in_code\n",
    "\n",
    "pc_util.write_ply(np.squeeze(ae.decode(new_code)), './noisy/input0.ply')\n",
    "pc_util.write_ply(np.squeeze(new_target), './noisy/gt0.ply')\n",
    "\n",
    "\n",
    "print new_code\n",
    "\n",
    "# print np.asarray(grad).shape\n",
    "\n",
    "# grad = ae.gradient_of_input_wrt_loss(x_in, x_target)\n",
    "for j in xrange(10):\n",
    "    grad = decoder_gradient_wrt_codes(ae, new_code, new_target)\n",
    "    grad = np.expand_dims(np.squeeze(grad),axis=0)\n",
    "    newer_code = grad_descent(new_code, grad, 50)\n",
    "    new_code = newer_code\n",
    "    points_list.append(new_code)\n",
    "    \n",
    "# points_list.append(x_target_code)\n",
    "\n",
    "# points_list.append(np.squeeze(ae.decode(new_code))\n",
    "for j in xrange(11):\n",
    "    pc_util.write_ply(np.squeeze(ae.decode(points_list[j])), './noisy/input'+str(j)+'.ply')\n",
    "    \n",
    "pc_util.write_ply(np.squeeze(new_target), './noisy/input'+str(j+1)+'.ply')"
   ]
  },
  {
   "cell_type": "code",
   "execution_count": null,
   "metadata": {},
   "outputs": [],
   "source": []
  }
 ],
 "metadata": {
  "kernelspec": {
   "display_name": "test",
   "language": "python",
   "name": "test"
  },
  "language_info": {
   "codemirror_mode": {
    "name": "ipython",
    "version": 3
   },
   "file_extension": ".py",
   "mimetype": "text/x-python",
   "name": "python",
   "nbconvert_exporter": "python",
   "pygments_lexer": "ipython3",
   "version": "3.6.8"
  }
 },
 "nbformat": 4,
 "nbformat_minor": 2
}
