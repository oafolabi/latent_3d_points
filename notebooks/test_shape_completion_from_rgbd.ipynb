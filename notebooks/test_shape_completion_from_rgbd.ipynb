{
 "cells": [
  {
   "cell_type": "code",
   "execution_count": 1,
   "metadata": {},
   "outputs": [],
   "source": [
    "import cv2\n",
    "import numpy as np\n",
    "import os\n",
    "import matplotlib.pyplot as plt\n",
    "import matplotlib.colors as cls\n",
    "import csv \n",
    "import copy\n",
    "import vtk \n",
    "from plyfile import PlyData, PlyElement\n",
    "import pymesh "
   ]
  },
  {
   "cell_type": "code",
   "execution_count": 2,
   "metadata": {},
   "outputs": [],
   "source": [
    "class VtkPointCloud:\n",
    "    def __init__(self, zMin=-10.0, zMax=10.0, maxNumPoints=1e9):\n",
    "        self.maxNumPoints = maxNumPoints\n",
    "        self.vtkPolyData = vtk.vtkPolyData()\n",
    "        self.clearPoints()\n",
    "        self.mapper = vtk.vtkPolyDataMapper()\n",
    "        self.mapper.SetInputData(self.vtkPolyData)\n",
    "        self.mapper.SetColorModeToDefault()\n",
    "#         self.mapper.SetScalarRange(zMin, zMax)\n",
    "        self.mapper.SetScalarVisibility(1)\n",
    "        self.vtkActor = vtk.vtkActor()\n",
    "        self.vtkActor.SetMapper(self.mapper)\n",
    " \n",
    "    def addPoint(self, point, color=None):\n",
    "        pointId = 0\n",
    "        if self.vtkPoints.GetNumberOfPoints() < self.maxNumPoints:\n",
    "            pointId = self.vtkPoints.InsertNextPoint(point[:])\n",
    "            self.vtkDepth.InsertNextValue(point[2])\n",
    "            self.vtkCells.InsertNextCell(1)\n",
    "            self.vtkCells.InsertCellPoint(pointId)\n",
    "            \n",
    "            if color is not None:\n",
    "                self.Colors.InsertNextTuple3(int(color[0]), int(color[1]), int(color[2]))\n",
    "            else:\n",
    "                self.Colors.InsertNextTuple3(0, 255, 0)\n",
    "                \n",
    "                \n",
    "            \n",
    "        else:\n",
    "            r = random.randint(0, self.maxNumPoints)\n",
    "            self.vtkPoints.SetPoint(r, point[:])\n",
    "        self.vtkCells.Modified()\n",
    "        self.vtkPoints.Modified()\n",
    "        self.vtkDepth.Modified()\n",
    "\n",
    "        \n",
    "        return pointId\n",
    "    \n",
    "        \n",
    "    def addLine(self, pointId):\n",
    "        input_line = vtk.vtkLine()\n",
    "        input_line.GetPointIds().SetId(0,pointId[0])\n",
    "        input_line.GetPointIds().SetId(1,pointId[1])\n",
    "        self.vtkLines.InsertNextCell(input_line)\n",
    "        self.vtkLines.Modified()\n",
    "        \n",
    " \n",
    "    def clearPoints(self):\n",
    "        self.vtkPoints = vtk.vtkPoints()\n",
    "        self.vtkCells = vtk.vtkCellArray()\n",
    "        self.vtkLines = vtk.vtkCellArray()\n",
    "        self.vtkDepth = vtk.vtkDoubleArray()\n",
    "        self.vtkDepth.SetName('DepthArray')\n",
    "        self.Colors = vtk.vtkUnsignedCharArray()\n",
    "        self.Colors.SetNumberOfComponents(3)\n",
    "        self.Colors.SetName(\"Colors\")\n",
    "        self.vtkPolyData.SetPoints(self.vtkPoints)\n",
    "        self.vtkPolyData.SetVerts(self.vtkCells)\n",
    "#         self.vtkPolyData.GetPointData().SetScalars(self.vtkDepth)\n",
    "#         self.vtkPolyData.GetPointData().SetActiveScalars('DepthArray')\n",
    "        self.vtkPolyData.GetPointData().SetScalars(self.Colors)\n",
    "        self.vtkPolyData.GetPointData().SetActiveScalars(\"Colors\")\n",
    "        self.vtkPolyData.SetLines(self.vtkLines)\n",
    "        \n",
    "        \n",
    "# def load_data(filename,pointCloud):\n",
    "\n",
    "#     data = genfromtxt(filename,dtype=float,skiprows=2,usecols=[0,1,2])\n",
    "     \n",
    "#     for k in xrange(size(data,0)):\n",
    "#         point = data[k] #20*(random.rand(3)-0.5)\n",
    "#         pointCloud.addPoint(point)\n",
    "         \n",
    "#     return pointCloud\n",
    "\n",
    "def load_data2(data, pointCloud):\n",
    "     \n",
    "    pointId = [0,0]  \n",
    "    for k in range(len(data)):\n",
    "        point = data[k] #20*(random.rand(3)-0.5)\n",
    "        if k%2 == 0:\n",
    "            pointId[0] = pointCloud.addPoint(point)\n",
    "        else:\n",
    "            pointId[1] = pointCloud.addPoint(point)\n",
    "            pointCloud.addLine(pointId)\n",
    "         \n",
    "    return pointCloud\n",
    "\n",
    "def load_more_points(data, pointCloud):\n",
    "    for k in range(len(data)):\n",
    "        point = data[k]\n",
    "        if point.shape[0] == 3:\n",
    "            pointCloud.addPoint(point)\n",
    "        else:\n",
    "            pointCloud.addPoint(point[0:3], point[3:6])\n",
    "        \n",
    "    return pointCloud\n",
    "\n",
    "def load_lines(data, pointCloud):\n",
    "     \n",
    "    for k in range(len(data)):\n",
    "#         pdb.set_trace()\n",
    "        point = data[k] #20*(random.rand(3)-0.5)\n",
    "#         print(point)\n",
    "        pointCloud.addLine(point)\n",
    "         \n",
    "    return pointCloud\n",
    " \n"
   ]
  },
  {
   "cell_type": "code",
   "execution_count": 3,
   "metadata": {},
   "outputs": [],
   "source": [
    "def close_window(iren):\n",
    "    render_window = iren.GetRenderWindow()\n",
    "    render_window.Finalize()\n",
    "    iren.TerminateApp()"
   ]
  },
  {
   "cell_type": "code",
   "execution_count": 4,
   "metadata": {},
   "outputs": [],
   "source": [
    "def getDepthpointFromRGB(u,v, K_rgb, K_depth):\n",
    "    K_rgb_inv = np.linalg.inv(K_rgb)\n",
    "    rgb_point = np.asarray([u,v,1,1], dtype=np.float64)\n",
    "    homo_depth_point = np.dot(K_depth,np.dot(K_rgb_inv,rgb_point))\n",
    "    u_depth = int(np.round(homo_depth_point[0]))\n",
    "    v_depth = int(np.round(homo_depth_point[1]))\n",
    "    return u_depth ,v_depth"
   ]
  },
  {
   "cell_type": "code",
   "execution_count": 5,
   "metadata": {},
   "outputs": [],
   "source": [
    "def projectTo3D(u,v,z, K, T):\n",
    "    K_inv = np.linalg.inv(K)\n",
    "    rgb_point = np.asarray([z*u, z*v, z, 1], dtype=np.float64)\n",
    "    depth_point = np.dot(K_inv, rgb_point)\n",
    "    world_depth_point = np.dot(T, depth_point)\n",
    "    return world_depth_point[0:3]"
   ]
  },
  {
   "cell_type": "code",
   "execution_count": 23,
   "metadata": {},
   "outputs": [],
   "source": [
    "def read_ply(filename):\n",
    "    \"\"\" read XYZ point cloud from filename PLY file \"\"\"\n",
    "    plydata = PlyData.read(filename)\n",
    "    pc = plydata['vertex'].data\n",
    "    if len(pc[0]) == 3:\n",
    "        pc_array = np.array([[x, y, z] for x,y,z in pc])\n",
    "    else:\n",
    "        pc_array = np.array([[pc_elem[0],pc_elem[1],pc_elem[2],pc_elem[3],pc_elem[4],pc_elem[5],\n",
    "                             pc_elem[6]] for pc_elem in pc])     \n",
    "    return pc_array"
   ]
  },
  {
   "cell_type": "code",
   "execution_count": 7,
   "metadata": {},
   "outputs": [],
   "source": [
    "# read depth image, color, K, T, semantic labels\n",
    "depth_filename = '/home/sastrygrp2/data/Scannet/scans/downsampled_scans/rendered_depth/0.png'\n",
    "rgb_filename  = '/home/sastrygrp2/data/Scannet/scans/downsampled_scans/color/0.jpg'\n",
    "K_filename = '/home/sastrygrp2/data/Scannet/scans/downsampled_scans/intrinsic/intrinsic_depth.txt'\n",
    "T_filename = '/home/sastrygrp2/data/Scannet/scans/downsampled_scans/pose/0.txt'\n",
    "semantic_instance_labels_filename = '/home/sastrygrp2/data/Scannet/scans/downsampled_scans/instance/0.png'\n",
    "semantic_labels_filename = '/home/sastrygrp2/data/Scannet/scans/downsampled_scans/label/0.png'\n",
    "\n",
    "scannet_labels_filename = '/home/sastrygrp2/data/Scannet/tasks/scannet-labels.combined.tsv'\n",
    "\n",
    "SCALE = 1000"
   ]
  },
  {
   "cell_type": "code",
   "execution_count": 8,
   "metadata": {},
   "outputs": [],
   "source": [
    "depth_img = cv2.imread(depth_filename, cv2.IMREAD_UNCHANGED)/SCALE\n",
    "rgb_img = cv2.imread(rgb_filename)\n",
    "# sem_img = cv2.resize(sem_img,(640,480), interpolation=cv.INTER_NEAREST)\n",
    "K = np.loadtxt(K_filename)\n",
    "T = np.loadtxt(T_filename)\n",
    "sem_inst_img = cv2.imread(semantic_instance_labels_filename, cv2.IMREAD_UNCHANGED)\n",
    "sem_img = cv2.imread(semantic_labels_filename, cv2.IMREAD_UNCHANGED)\n",
    "sem_img = cv2.resize(sem_img,(640,480), interpolation=cv2.INTER_NEAREST)"
   ]
  },
  {
   "cell_type": "code",
   "execution_count": 9,
   "metadata": {},
   "outputs": [
    {
     "name": "stdout",
     "output_type": "stream",
     "text": [
      "OrderedDict([('id', '1'), ('category', 'wall'), ('count', '7274'), ('nyuId', '21'), ('nyu40id', '1'), ('eigen13id', '12'), ('nyuClass', 'wall'), ('nyu40class', 'wall'), ('eigen13class', 'Wall'), ('ModelNet40', ''), ('ModelNet10', ''), ('ShapeNetCore55', ''), ('synsetoffset', ''), ('wnsynsetid', 'n04546855'), ('wnsynsetkey', 'wall.n.01')])\n"
     ]
    }
   ],
   "source": [
    "scannet_labels_dictionary = {}\n",
    "scannet_labels_dictionary = csv.DictReader(open(scannet_labels_filename, mode='r'),delimiter=\"\\t\")\n",
    "print(list(scannet_labels_dictionary)[0])"
   ]
  },
  {
   "cell_type": "code",
   "execution_count": 10,
   "metadata": {},
   "outputs": [
    {
     "data": {
      "image/png": "[encoded data removed]",
      "text/plain": [
       "<Figure size 432x288 with 1 Axes>"
      ]
     },
     "metadata": {
      "needs_background": "light"
     },
     "output_type": "display_data"
    }
   ],
   "source": [
    "plt.imshow(sem_inst_img, norm=cls.Normalize())\n",
    "plt.show()"
   ]
  },
  {
   "cell_type": "code",
   "execution_count": 11,
   "metadata": {},
   "outputs": [
    {
     "name": "stdout",
     "output_type": "stream",
     "text": [
      "(array([  0,   0,   0, ..., 479, 479, 479]), array([  0,   1,   2, ..., 637, 638, 639]))\n"
     ]
    }
   ],
   "source": [
    "idxs = np.where(sem_img != 62)\n",
    "print(idxs)"
   ]
  },
  {
   "cell_type": "code",
   "execution_count": 12,
   "metadata": {},
   "outputs": [],
   "source": [
    "tmp_img = copy.deepcopy(sem_inst_img)\n",
    "tmp_img[idxs] = 0"
   ]
  },
  {
   "cell_type": "code",
   "execution_count": 13,
   "metadata": {},
   "outputs": [
    {
     "data": {
      "image/png": "[encoded data removed]",
      "text/plain": [
       "<Figure size 432x288 with 1 Axes>"
      ]
     },
     "metadata": {
      "needs_background": "light"
     },
     "output_type": "display_data"
    }
   ],
   "source": [
    "plt.imshow(tmp_img, norm=cls.Normalize())\n",
    "plt.show()"
   ]
  },
  {
   "cell_type": "code",
   "execution_count": 14,
   "metadata": {},
   "outputs": [],
   "source": [
    "oven_points = []\n",
    "u_max = tmp_img.shape[1]\n",
    "v_max = tmp_img.shape[0]\n",
    "\n",
    "for u in range(u_max):\n",
    "    for v in range(v_max):\n",
    "        inst_label = tmp_img[v,u]\n",
    "        if inst_label > 0:\n",
    "            z = depth_img[v,u]\n",
    "            world_3d_points = projectTo3D(u,v,z,K,T)\n",
    "            oven_points.append(world_3d_points.tolist())\n",
    "\n",
    "oven_points = np.asarray(oven_points)"
   ]
  },
  {
   "cell_type": "code",
   "execution_count": 32,
   "metadata": {},
   "outputs": [
    {
     "name": "stdout",
     "output_type": "stream",
     "text": [
      "[2.85831101 2.04935738 0.67269441]\n"
     ]
    }
   ],
   "source": [
    "centroid = np.mean(oven_points,axis=0)\n",
    "print(centroid)\n",
    "tip = centroid + np.asarray([0,0,1])*3\n",
    "\n",
    "cad_oven = read_ply('/home/sastrygrp2/code/latent_3d_points/notebooks/oven.ply')\n",
    "cad_mean = np.mean(cad_oven, axis=0)\n",
    "cad_oven = cad_oven - np.asarray([cad_mean[0], cad_mean[1], cad_mean[2], 0,0,0,0])+ np.asarray([centroid[0], centroid[1], centroid[2],0,0,0,0])"
   ]
  },
  {
   "cell_type": "code",
   "execution_count": 33,
   "metadata": {},
   "outputs": [],
   "source": [
    "pointCloud = VtkPointCloud()\n",
    "pointCloud =load_more_points(oven_points, pointCloud)\n",
    "pointCloud = load_more_points(cad_oven , pointCloud)\n",
    "#\"pointCloud2 =load_more_points(tsdf_points, pointCloud)\\n\",\n",
    "#\"# pointCloud =load_lines(all_lines, pointCloud)\\n\",\n",
    "\n",
    "pointCloud = load_data2([centroid.tolist(), tip.tolist()], pointCloud)\n",
    "# Rendered\n",
    "renderer = vtk.vtkRenderer()\n",
    "renderer.AddActor(pointCloud.vtkActor)\n",
    "\n",
    "#renderer.SetBackground(.2, .3, .4)\n",
    "renderer.SetBackground(0.0, 0.0, 0.0)\n",
    "renderer.ResetCamera()\n",
    "\n",
    "# Render Window\n",
    "renderWindow = vtk.vtkRenderWindow()\n",
    "renderWindow.AddRenderer(renderer)\n",
    "\n",
    "# Interactor\n",
    "renderWindowInteractor = vtk.vtkRenderWindowInteractor()\n",
    "renderWindowInteractor.SetRenderWindow(renderWindow)\n",
    "\n",
    "# Begin Interaction\n",
    "renderWindow.Render()\n",
    "renderWindow.SetWindowName(\"XYZ Data Viewer:\")\n",
    "renderWindowInteractor.Start()\n",
    "\n",
    "close_window(renderWindowInteractor)\n",
    "del renderWindow, renderWindowInteractor"
   ]
  },
  {
   "cell_type": "code",
   "execution_count": null,
   "metadata": {},
   "outputs": [],
   "source": []
  }
 ],
 "metadata": {
  "kernelspec": {
   "display_name": "Python 3",
   "language": "python",
   "name": "python3"
  },
  "language_info": {
   "codemirror_mode": {
    "name": "ipython",
    "version": 3
   },
   "file_extension": ".py",
   "mimetype": "text/x-python",
   "name": "python",
   "nbconvert_exporter": "python",
   "pygments_lexer": "ipython3",
   "version": "3.6.7"
  }
 },
 "nbformat": 4,
 "nbformat_minor": 2
}
